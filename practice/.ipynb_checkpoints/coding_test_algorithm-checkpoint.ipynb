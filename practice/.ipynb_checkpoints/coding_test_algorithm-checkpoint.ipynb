{
 "cells": [
  {
   "cell_type": "markdown",
   "metadata": {},
   "source": [
    "# 그리디 알고리즘\n",
    "### 현재 상황에서 가장 좋은것만을 고르는 방법"
   ]
  },
  {
   "cell_type": "markdown",
   "metadata": {},
   "source": [
    "## 1.> 거스름돈"
   ]
  },
  {
   "cell_type": "code",
   "execution_count": 1,
   "metadata": {},
   "outputs": [
    {
     "name": "stdout",
     "output_type": "stream",
     "text": [
      "1260\n",
      "6\n"
     ]
    }
   ],
   "source": [
    "#거슬러 줘야하는 돈이 N원인 경우 거슬러줘야할 동전의 최소 개수\n",
    "# N = 500*x + 100*y + 50*z + 10*w\n",
    "\n",
    "N = int(input())\n",
    "count = 0\n",
    "changes = [500, 100, 50, 10]\n",
    "\n",
    "for change in changes:\n",
    "    count += N//change\n",
    "    N %= change\n",
    "print(count)"
   ]
  },
  {
   "cell_type": "markdown",
   "metadata": {},
   "source": [
    "## 2.> 큰 수의 법칙"
   ]
  },
  {
   "cell_type": "code",
   "execution_count": 3,
   "metadata": {},
   "outputs": [
    {
     "name": "stdout",
     "output_type": "stream",
     "text": [
      "10 8 4\n",
      "1 1 1 1 1 1 1 8 6 4\n",
      "62\n"
     ]
    }
   ],
   "source": [
    "## 이건 내 풀이\n",
    "N, M, K = map(int, input().split()) # 배열의 크기 N, 숫자가 더해지는 횟수 M, 연속 합 제한 K\n",
    "\n",
    "nums = list(map(int, input().split())) # N 입력됨\n",
    "\n",
    "#\n",
    "#큰수의 법칙 구현\n",
    "#\n",
    "result = 0\n",
    "maxnum = max(nums)\n",
    "count = nums.count(maxnum)\n",
    "if count >= 2 :\n",
    "    result = M*maxnum\n",
    "else:\n",
    "    nums.remove(maxnum)\n",
    "    second = max(nums)\n",
    "    first_part = M//(K+1)\n",
    "    rest_part = M%(K+1)\n",
    "    \n",
    "    result = first_part*(maxnum*K + second) + rest_part*maxnum\n",
    "    \n",
    "print(result)"
   ]
  },
  {
   "cell_type": "code",
   "execution_count": 6,
   "metadata": {},
   "outputs": [
    {
     "name": "stdout",
     "output_type": "stream",
     "text": [
      "5 8 3\n",
      "2 4 5 6 5\n",
      "46\n"
     ]
    }
   ],
   "source": [
    "## 그리디 하게 풀기\n",
    "N, M, K = map(int, input().split()) # 배열의 크기 N, 숫자가 더해지는 횟수 M, 연속 합 제한 K\n",
    "\n",
    "nums = list(map(int, input().split())) # N 입력됨\n",
    "\n",
    "nums.sort()\n",
    "\n",
    "first = nums[N-1]\n",
    "second = nums[N-2]\n",
    "result = 0\n",
    "while True :\n",
    "    \n",
    "    for i in range(K):\n",
    "        if M == 0 : break\n",
    "        result += first\n",
    "        M -= 1\n",
    "    if M == 0 : break\n",
    "    result += second\n",
    "    M -= 1\n",
    "    \n",
    "print(result)"
   ]
  },
  {
   "cell_type": "markdown",
   "metadata": {},
   "source": [
    "## 3.> 숫자 카드 게임"
   ]
  },
  {
   "cell_type": "code",
   "execution_count": 13,
   "metadata": {},
   "outputs": [
    {
     "ename": "KeyboardInterrupt",
     "evalue": "Interrupted by user",
     "output_type": "error",
     "traceback": [
      "\u001b[0;31m---------------------------------------------------------------------------\u001b[0m",
      "\u001b[0;31mKeyboardInterrupt\u001b[0m                         Traceback (most recent call last)",
      "\u001b[0;32m<ipython-input-13-f61611472b1a>\u001b[0m in \u001b[0;36m<module>\u001b[0;34m\u001b[0m\n\u001b[0;32m----> 1\u001b[0;31m \u001b[0mline\u001b[0m\u001b[0;34m,\u001b[0m \u001b[0mrow\u001b[0m \u001b[0;34m=\u001b[0m \u001b[0mmap\u001b[0m\u001b[0;34m(\u001b[0m\u001b[0mint\u001b[0m\u001b[0;34m,\u001b[0m \u001b[0minput\u001b[0m\u001b[0;34m(\u001b[0m\u001b[0;34m)\u001b[0m\u001b[0;34m.\u001b[0m\u001b[0msplit\u001b[0m\u001b[0;34m(\u001b[0m\u001b[0;34m)\u001b[0m\u001b[0;34m)\u001b[0m\u001b[0;34m\u001b[0m\u001b[0;34m\u001b[0m\u001b[0m\n\u001b[0m\u001b[1;32m      2\u001b[0m \u001b[0;34m\u001b[0m\u001b[0m\n\u001b[1;32m      3\u001b[0m \u001b[0mresult\u001b[0m \u001b[0;34m=\u001b[0m \u001b[0;36m0\u001b[0m\u001b[0;34m\u001b[0m\u001b[0;34m\u001b[0m\u001b[0m\n\u001b[1;32m      4\u001b[0m \u001b[0;34m\u001b[0m\u001b[0m\n\u001b[1;32m      5\u001b[0m \u001b[0;32mfor\u001b[0m \u001b[0mi\u001b[0m \u001b[0;32min\u001b[0m \u001b[0mrange\u001b[0m\u001b[0;34m(\u001b[0m\u001b[0mline\u001b[0m\u001b[0;34m)\u001b[0m\u001b[0;34m:\u001b[0m\u001b[0;34m\u001b[0m\u001b[0;34m\u001b[0m\u001b[0m\n",
      "\u001b[0;32m/usr/local/lib/python3.7/site-packages/ipykernel/kernelbase.py\u001b[0m in \u001b[0;36mraw_input\u001b[0;34m(self, prompt)\u001b[0m\n\u001b[1;32m    861\u001b[0m             \u001b[0mself\u001b[0m\u001b[0;34m.\u001b[0m\u001b[0m_parent_ident\u001b[0m\u001b[0;34m,\u001b[0m\u001b[0;34m\u001b[0m\u001b[0;34m\u001b[0m\u001b[0m\n\u001b[1;32m    862\u001b[0m             \u001b[0mself\u001b[0m\u001b[0;34m.\u001b[0m\u001b[0m_parent_header\u001b[0m\u001b[0;34m,\u001b[0m\u001b[0;34m\u001b[0m\u001b[0;34m\u001b[0m\u001b[0m\n\u001b[0;32m--> 863\u001b[0;31m             \u001b[0mpassword\u001b[0m\u001b[0;34m=\u001b[0m\u001b[0;32mFalse\u001b[0m\u001b[0;34m,\u001b[0m\u001b[0;34m\u001b[0m\u001b[0;34m\u001b[0m\u001b[0m\n\u001b[0m\u001b[1;32m    864\u001b[0m         )\n\u001b[1;32m    865\u001b[0m \u001b[0;34m\u001b[0m\u001b[0m\n",
      "\u001b[0;32m/usr/local/lib/python3.7/site-packages/ipykernel/kernelbase.py\u001b[0m in \u001b[0;36m_input_request\u001b[0;34m(self, prompt, ident, parent, password)\u001b[0m\n\u001b[1;32m    902\u001b[0m             \u001b[0;32mexcept\u001b[0m \u001b[0mKeyboardInterrupt\u001b[0m\u001b[0;34m:\u001b[0m\u001b[0;34m\u001b[0m\u001b[0;34m\u001b[0m\u001b[0m\n\u001b[1;32m    903\u001b[0m                 \u001b[0;31m# re-raise KeyboardInterrupt, to truncate traceback\u001b[0m\u001b[0;34m\u001b[0m\u001b[0;34m\u001b[0m\u001b[0;34m\u001b[0m\u001b[0m\n\u001b[0;32m--> 904\u001b[0;31m                 \u001b[0;32mraise\u001b[0m \u001b[0mKeyboardInterrupt\u001b[0m\u001b[0;34m(\u001b[0m\u001b[0;34m\"Interrupted by user\"\u001b[0m\u001b[0;34m)\u001b[0m \u001b[0;32mfrom\u001b[0m \u001b[0;32mNone\u001b[0m\u001b[0;34m\u001b[0m\u001b[0;34m\u001b[0m\u001b[0m\n\u001b[0m\u001b[1;32m    905\u001b[0m             \u001b[0;32mexcept\u001b[0m \u001b[0mException\u001b[0m \u001b[0;32mas\u001b[0m \u001b[0me\u001b[0m\u001b[0;34m:\u001b[0m\u001b[0;34m\u001b[0m\u001b[0;34m\u001b[0m\u001b[0m\n\u001b[1;32m    906\u001b[0m                 \u001b[0mself\u001b[0m\u001b[0;34m.\u001b[0m\u001b[0mlog\u001b[0m\u001b[0;34m.\u001b[0m\u001b[0mwarning\u001b[0m\u001b[0;34m(\u001b[0m\u001b[0;34m\"Invalid Message:\"\u001b[0m\u001b[0;34m,\u001b[0m \u001b[0mexc_info\u001b[0m\u001b[0;34m=\u001b[0m\u001b[0;32mTrue\u001b[0m\u001b[0;34m)\u001b[0m\u001b[0;34m\u001b[0m\u001b[0;34m\u001b[0m\u001b[0m\n",
      "\u001b[0;31mKeyboardInterrupt\u001b[0m: Interrupted by user"
     ]
    }
   ],
   "source": [
    "line, row = map(int, input().split())\n",
    "\n",
    "result = 0\n",
    "\n",
    "for i in range(line):\n",
    "    array = list(map(int, input().split()))\n",
    "    min_num = min(array)\n",
    "    result = max(result, min_num)\n",
    "print(result)"
   ]
  },
  {
   "cell_type": "markdown",
   "metadata": {},
   "source": [
    "## 4.> 1이 될 때까지"
   ]
  },
  {
   "cell_type": "code",
   "execution_count": 20,
   "metadata": {},
   "outputs": [
    {
     "name": "stdout",
     "output_type": "stream",
     "text": [
      "5 8\n",
      "4\n"
     ]
    }
   ],
   "source": [
    "n, k = map(int, input().split())\n",
    "count = 0\n",
    "while n != 1:\n",
    "    if n%k == 0:\n",
    "        n //= k\n",
    "        count +=1\n",
    "    else:\n",
    "        n -= 1\n",
    "        count +=1\n",
    "        \n",
    "print(count)"
   ]
  },
  {
   "cell_type": "markdown",
   "metadata": {},
   "source": [
    "# 구현"
   ]
  },
  {
   "cell_type": "markdown",
   "metadata": {},
   "source": [
    "## 예제 1 (상하좌우)"
   ]
  },
  {
   "cell_type": "code",
   "execution_count": 13,
   "metadata": {},
   "outputs": [
    {
     "name": "stdout",
     "output_type": "stream",
     "text": [
      "5\n",
      "R R R U D D\n",
      "3 4\n"
     ]
    }
   ],
   "source": [
    "n = int(input())\n",
    "plans = input().split()\n",
    "\n",
    "x , y = 1, 1\n",
    "\n",
    "dx = [0, 0, -1, 1]\n",
    "dy = [-1, 1, 0, 0]\n",
    "types = ['L','R','U','D']\n",
    "\n",
    "for plan in plans:\n",
    "    for j in range(len(types)):\n",
    "        if types[j] == plan:\n",
    "            nx = x + dx[j]\n",
    "            ny = y + dy[j]\n",
    "    if nx < 1 or ny < 1 or nx > n or ny > n:\n",
    "        continue    \n",
    "    x,y = nx,ny\n",
    "print(x,y)"
   ]
  },
  {
   "cell_type": "markdown",
   "metadata": {},
   "source": [
    "## 2.> 왕실의 나이트"
   ]
  },
  {
   "cell_type": "code",
   "execution_count": 39,
   "metadata": {},
   "outputs": [
    {
     "name": "stdout",
     "output_type": "stream",
     "text": [
      "3\n",
      "2\n",
      "6\n"
     ]
    }
   ],
   "source": [
    "# ascii 97 == a\n",
    "\n",
    "result_x = [chr(97+i) for i in range(8)]\n",
    "result_y = [1+i for i in range(8)]\n",
    "\n",
    "x = int(input())\n",
    "y = int(input())\n",
    "\n",
    "dx = [2,2,-2,-2,1,1,-1,-1]\n",
    "dy = [1,-1,1,-1,2,-2,2,-2]\n",
    "\n",
    "count = 0\n",
    "\n",
    "for i in range(8):\n",
    "    nx = 0\n",
    "    ny = 0\n",
    "    \n",
    "    nx = x + dx[i]\n",
    "    ny = y + dy[i]\n",
    "    if nx <= 0 or ny <= 0 or nx >= 9 or ny >= 9 :\n",
    "        continue\n",
    "    else: count += 1\n",
    "\n",
    "print(count)"
   ]
  },
  {
   "cell_type": "markdown",
   "metadata": {},
   "source": [
    "## 3.> 게임 개발"
   ]
  },
  {
   "cell_type": "code",
   "execution_count": null,
   "metadata": {
    "scrolled": true
   },
   "outputs": [
    {
     "name": "stdout",
     "output_type": "stream",
     "text": [
      "1 1 0\n"
     ]
    }
   ],
   "source": [
    "\n",
    "game_map = [[1,1,1,1],\n",
    "            [1,0,0,1],\n",
    "            [1,1,0,1],\n",
    "            [1,1,1,1]]\n",
    "\n",
    "array = [[0]*4 for _ in range(4)]\n",
    "\n",
    "x,y,d = map(int, input().split()) # 1 1 0\n",
    "#d에 대하여\n",
    "#0 북 #1 서 #2 동 #3 남\n",
    "\n",
    "def turn():\n",
    "    global d\n",
    "    d += 1\n",
    "    if d == 4:\n",
    "        d = 0\n",
    "\n",
    "dx = [-1,  0, 1, 0]\n",
    "dy = [ 0 ,-1, 0, 1]\n",
    "count = 1\n",
    "limit = 0\n",
    "array[x][y] = 1#초기 위치 방문 처리\n",
    "while True:\n",
    "    turn()\n",
    "    nx = x + dx[d]\n",
    "    ny = y + dy[d]\n",
    "\n",
    "    if game_map[nx][ny] == 0 and array[nx][ny] == 0 :\n",
    "        array[nx][ny] = 1\n",
    "        x = nx\n",
    "        y = ny\n",
    "        count += 1\n",
    "        limit = 0\n",
    "        continue\n",
    "    else:\n",
    "        limit += 1\n",
    "    \n",
    "    if limit == 4:\n",
    "        nx = x - dx[d]\n",
    "        ny = y - dy[d]\n",
    "        if game_map[nx][ny] == 0:\n",
    "            x = nx\n",
    "            y = ny\n",
    "        else:\n",
    "            break\n",
    "    \n",
    "        \n",
    "print(count)"
   ]
  },
  {
   "cell_type": "markdown",
   "metadata": {},
   "source": [
    "# DFS"
   ]
  },
  {
   "cell_type": "markdown",
   "metadata": {},
   "source": [
    "## DFS 예제"
   ]
  },
  {
   "cell_type": "code",
   "execution_count": 6,
   "metadata": {},
   "outputs": [
    {
     "name": "stdout",
     "output_type": "stream",
     "text": [
      "1\n",
      "2\n",
      "7\n",
      "6\n",
      "8\n",
      "3\n",
      "4\n",
      "5\n"
     ]
    }
   ],
   "source": [
    "graph = [[],\n",
    "         [2,3,8],\n",
    "         [1,7],\n",
    "         [1,4,5],\n",
    "         [3,5],\n",
    "         [3,4],\n",
    "         [7],\n",
    "         [2,6,8],\n",
    "         [1,7] ]\n",
    "\n",
    "def dfs(graph, v, visited):\n",
    "    visited[v] = True # 현재 노드 v는 방문 처리\n",
    "    print(v)\n",
    "    for i in graph[v]:\n",
    "        if not visited[i]:\n",
    "            dfs(graph, i, visited)\n",
    "\n",
    "visited = [False]*9\n",
    "\n",
    "dfs(graph, 1, visited)"
   ]
  },
  {
   "cell_type": "markdown",
   "metadata": {},
   "source": [
    "## BFS 예제"
   ]
  },
  {
   "cell_type": "code",
   "execution_count": 5,
   "metadata": {},
   "outputs": [
    {
     "name": "stdout",
     "output_type": "stream",
     "text": [
      "1\n",
      "2\n",
      "3\n",
      "8\n",
      "7\n",
      "4\n",
      "5\n",
      "6\n"
     ]
    }
   ],
   "source": [
    "from collections import deque\n",
    "\n",
    "graph = [[],\n",
    "         [2,3,8],\n",
    "         [1,7],\n",
    "         [1,4,5],\n",
    "         [3,5],\n",
    "         [3,4],\n",
    "         [7],\n",
    "         [2,6,8],\n",
    "         [1,7]]\n",
    "\n",
    "visited = [False]*9\n",
    "\n",
    "def bfs(graph, start, visited):\n",
    "    queue = deque([start])\n",
    "    visited[start] = True\n",
    "    while queue:\n",
    "        v = queue.popleft()\n",
    "        print(v)\n",
    "        for i in graph[v]:\n",
    "            if not visited[i]:\n",
    "                visited[i] = True\n",
    "                queue.append(i)\n",
    "            \n",
    "    \n",
    "    \n",
    "bfs(graph, 1, visited)"
   ]
  },
  {
   "cell_type": "markdown",
   "metadata": {},
   "source": [
    "## 음료수 얼려 먹기"
   ]
  },
  {
   "cell_type": "code",
   "execution_count": 4,
   "metadata": {},
   "outputs": [
    {
     "name": "stdout",
     "output_type": "stream",
     "text": [
      "4 5\n",
      "3\n"
     ]
    }
   ],
   "source": [
    "n,m = map(int, input().split())\n",
    "\n",
    "graph = [[0,0,1,1,0],\n",
    "         [0,0,0,1,1],\n",
    "         [1,1,1,1,1],\n",
    "         [0,0,0,0,0]]\n",
    "\n",
    "result = 0\n",
    "\n",
    "def dfs(x,y):\n",
    "    if x<=-1 or x>=n or y<=-1 or y>=m :\n",
    "        return False\n",
    "    if graph[x][y] == 0 :\n",
    "        graph[x][y] = 1\n",
    "        dfs(x-1,y)\n",
    "        dfs(x+1,y)\n",
    "        dfs(x,y-1)\n",
    "        dfs(x,y+1)\n",
    "        return True\n",
    "    return False\n",
    "\n",
    "for i in range(n):\n",
    "    for j in range(m):\n",
    "        if dfs(i,j) == True:\n",
    "            result += 1\n",
    "print(result)"
   ]
  },
  {
   "cell_type": "markdown",
   "metadata": {},
   "source": [
    "## 미로탈출"
   ]
  },
  {
   "cell_type": "code",
   "execution_count": 10,
   "metadata": {},
   "outputs": [
    {
     "name": "stdout",
     "output_type": "stream",
     "text": [
      "5 6\n",
      "10\n"
     ]
    }
   ],
   "source": [
    "from collections import deque\n",
    "\n",
    "n,m = map(int, input().split())\n",
    "\n",
    "graph = [[2,0,1,0,1,0],\n",
    "         [1,1,1,1,1,1],\n",
    "         [0,0,0,0,0,1],\n",
    "         [1,1,1,1,1,1],\n",
    "         [1,1,1,1,1,1]]\n",
    "\n",
    "dx = [0,-1,0,1]\n",
    "dy = [-1,0,1,0]\n",
    "\n",
    "def bfs(x,y):\n",
    "    queue = deque() # queue 생성\n",
    "    queue.append((x,y)) # queue에 첫번째 시작점 좌표 입력\n",
    "    while queue: # queue가 채워져있으면 계속 반복\n",
    "        a,b = queue.popleft() # 첫 좌표\n",
    "        for i in range(4):#상하좌우에 대하여\n",
    "            nx = a + dx[i] #두번째 좌표\n",
    "            ny = b + dy[i]\n",
    "            if nx <= -1 or nx>= n or ny <= -1 or ny >= m:\n",
    "                continue\n",
    "            if graph[nx][ny] == 1: # 만약 두번째 좌표의 값이 1이면\n",
    "                graph[nx][ny] = graph[a][b] + 1 # 두번째 좌표에 첫번째 좌표의 값에 1을 더하고\n",
    "                queue.append((nx,ny)) #두번째 좌표를 queue에 넣어준다\n",
    "    return graph[n-1][m-1]\n",
    "print(bfs(0,0) - 1)"
   ]
  },
  {
   "cell_type": "code",
   "execution_count": null,
   "metadata": {},
   "outputs": [],
   "source": []
  }
 ],
 "metadata": {
  "kernelspec": {
   "display_name": "Python 3",
   "language": "python",
   "name": "python3"
  },
  "language_info": {
   "codemirror_mode": {
    "name": "ipython",
    "version": 3
   },
   "file_extension": ".py",
   "mimetype": "text/x-python",
   "name": "python",
   "nbconvert_exporter": "python",
   "pygments_lexer": "ipython3",
   "version": "3.7.4"
  }
 },
 "nbformat": 4,
 "nbformat_minor": 4
}
