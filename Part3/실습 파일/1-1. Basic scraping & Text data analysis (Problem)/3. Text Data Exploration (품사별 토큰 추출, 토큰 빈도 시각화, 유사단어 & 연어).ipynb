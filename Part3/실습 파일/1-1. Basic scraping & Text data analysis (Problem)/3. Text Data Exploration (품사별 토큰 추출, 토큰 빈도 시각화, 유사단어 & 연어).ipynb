{
 "cells": [
  {
   "cell_type": "markdown",
   "metadata": {},
   "source": [
    "#### Text Data Exploration & Visualization \n",
    "- http://www.nltk.org/api/nltk.html#nltk.text.Text"
   ]
  },
  {
   "cell_type": "markdown",
   "metadata": {},
   "source": [
    "<br>\n",
    "\n",
    "#### 1. 가장 많이 등장하는 단어 추출하기"
   ]
  },
  {
   "cell_type": "markdown",
   "metadata": {},
   "source": [
    "#### 1) 영화 Dark Knight 리뷰에서 많이 등장하는 명사 추출하기"
   ]
  },
  {
   "cell_type": "code",
   "execution_count": 1,
   "metadata": {
    "scrolled": true
   },
   "outputs": [],
   "source": [
    "import nltk\n",
    "from nltk.corpus import stopwords\n",
    "from collections import Counter"
   ]
  },
  {
   "cell_type": "code",
   "execution_count": 2,
   "metadata": {},
   "outputs": [],
   "source": [
    "# 1) Stopwords 준비하기\n",
    "stop_words = stopwords.words(\"english\")\n",
    "stop_words.append(',')\n",
    "stop_words.append('.')\n",
    "stop_words.append('’')\n",
    "stop_words.append('”')\n",
    "stop_words.append('—')"
   ]
  },
  {
   "cell_type": "code",
   "execution_count": 3,
   "metadata": {},
   "outputs": [],
   "source": [
    "# 2) Text data 준비하기\n",
    "file = open('darkknight.txt', 'r', encoding=\"utf-8\") # 읽기 형식('r')로 지정하고 인코딩은 'utf-8'로 설정한다\n",
    "lines = file.?()  # readlines 함수로 텍스트 파일의 내용을 읽어 리스트로 저장한다"
   ]
  },
  {
   "cell_type": "code",
   "execution_count": 4,
   "metadata": {},
   "outputs": [],
   "source": [
    "# 3) Tokenizing\n",
    "tokens = []\n",
    "for line in lines:  # for문을 통해 각 줄에 접근한다\n",
    "    tokenized = nltk.?(line)  # 각 줄을 tokenize한다 (word_ + Tab!)\n",
    "    for token in tokenized:\n",
    "        if token.lower() not in stop_words:\n",
    "            tokens.append(token)"
   ]
  },
  {
   "cell_type": "code",
   "execution_count": 5,
   "metadata": {},
   "outputs": [],
   "source": [
    "# 4) POS Tagging - 명사 종류만 모으기\n",
    "\n",
    "tags = nltk.pos_tag(tokens)  # tokenize한 결과를 품사 태깅한다\n",
    "\n",
    "wordList = []\n",
    "for word, tag in tags:  # for 문을 통해 각각의 (단어, 태그) 쌍에 접근\n",
    "    if tag ? ['NN', 'NNS', 'NNP', 'NNPS']:  # 만약 태그가 명사 종류이면:\n",
    "        wordList.append(word.lower())  # 소문자로 변환한 후 리스트에 첨부한다"
   ]
  },
  {
   "cell_type": "code",
   "execution_count": 6,
   "metadata": {},
   "outputs": [],
   "source": [
    "counts = Counter(wordList)  # 각 명사의 숫자를 센 결과를 변수에 저장한다 (Counter -> {'home': 15, '단어':출현횟수, ...})\n",
    "# print(counts)"
   ]
  },
  {
   "cell_type": "code",
   "execution_count": 7,
   "metadata": {},
   "outputs": [
    {
     "name": "stdout",
     "output_type": "stream",
     "text": [
      "[('movie', 405), ('batman', 303), ('film', 283), ('joker', 219), ('dark', 136), ('ledger', 131), ('knight', 124), ('time', 112), ('heath', 110), ('performance', 87)]\n"
     ]
    }
   ],
   "source": [
    "print(counts.?(10))  # 가장 많이 등장한 10개 명사를 출력한다 (most common words)"
   ]
  },
  {
   "cell_type": "markdown",
   "metadata": {},
   "source": [
    "#### 2) 영화 Dark Knight 리뷰에서 많이 등장하는 형용사 추출하기 \n",
    "- ['JJ', 'JJR', 'JS']"
   ]
  },
  {
   "cell_type": "code",
   "execution_count": null,
   "metadata": {
    "collapsed": true,
    "scrolled": true
   },
   "outputs": [],
   "source": [
    "# 1) Stopwords 준비하기\n",
    "# 생략\n",
    "\n",
    "# 2) Text data 준비하기\n",
    "# 생략\n",
    "\n",
    "# 3) Tokenizing\n",
    "# 생략\n",
    "\n",
    "# 4) POS Tagging - 형용사 종류만 모으기\n",
    "tags = nltk.pos_tag(tokens)  # tokenize한 결과를 품사 태깅한다\n",
    "wordList = []\n",
    "for word, tag in tags:  # for 문을 통해 각각의 (단어, 태그) 쌍에 접근\n",
    "    if tag in ?:  # 만약 태그가 형용사 종류이면:\n",
    "        wordList.append(word.lower())  # 소문자로 변환한 후 리스트에 첨부한다\n",
    "\n",
    "counts = Counter(wordList)  # 각 형용사의 숫자를 센 결과를 변수에 저장한다 (Counter -> {'home': 15, '단어':출현횟수, ...})\n",
    "# print(counts)\n",
    "print(counts.most_common(10))  # 가장 많이 등장한 10개 형용사를 출력한다"
   ]
  },
  {
   "cell_type": "markdown",
   "metadata": {},
   "source": [
    "#### 3) 영화 Dark Knight 리뷰에서 많이 등장하는 동사 추출하기 \n",
    "- ['VB', 'VBD', 'VBN', 'VBP', 'VBZ']"
   ]
  },
  {
   "cell_type": "code",
   "execution_count": null,
   "metadata": {
    "collapsed": true,
    "scrolled": true
   },
   "outputs": [],
   "source": [
    "# 1) Stopwords 준비하기\n",
    "# 생략\n",
    "\n",
    "# 2) Text data 준비하기\n",
    "# 생략\n",
    "\n",
    "# 3) Tokenizing\n",
    "# 생략\n",
    "\n",
    "# 4) POS Tagging - 동사 종류만 모으기\n",
    "tags = nltk.pos_tag(tokens)  # tokenize한 결과를 품사 태깅한다\n",
    "wordList = []\n",
    "for word, tag in tags:  # for 문을 통해 각각의 (단어, 태그) 쌍에 접근\n",
    "    if tag in ?:  # 만약 태그가 동사 종류이면:\n",
    "        wordList.append(word.lower())  # 소문자로 변환한 후 리스트에 첨부한다\n",
    "\n",
    "counts = Counter(wordList)  # 각 동사의 숫자를 센 결과를 변수에 저장한다 (Counter -> {'home': 15, '단어':출현횟수, ...})\n",
    "# print(counts)\n",
    "print(counts.most_common(10))  # 가장 많이 등장한 10개 동사를 출력한다"
   ]
  },
  {
   "cell_type": "markdown",
   "metadata": {},
   "source": [
    "<br>\n",
    "<br>\n",
    "\n",
    "#### 2. 영화 Dark Knight 리뷰에서 등장하는 토큰 개수 확인하기"
   ]
  },
  {
   "cell_type": "code",
   "execution_count": 8,
   "metadata": {
    "scrolled": true
   },
   "outputs": [],
   "source": [
    "stop_words = stopwords.words(\"english\")\n",
    "stop_words.append(',')\n",
    "stop_words.append('.')\n",
    "stop_words.append('’')\n",
    "stop_words.append('”')\n",
    "stop_words.append('—')\n",
    "stop_words.append('else')\n",
    "stop_words.append('$')\n",
    "\n",
    "file = open('darkknight.txt', 'r', encoding=\"utf-8\")  # 읽기 형식('r')로 지정하고 인코딩은 'utf-8'로 설정한다\n",
    "lines = file.readlines()  # readlines 함수로 텍스트 파일의 내용을 읽어 리스트로 저장한다\n",
    "\n",
    "tokens = []\n",
    "\n",
    "for line in lines:  # for문을 통해 각 줄에 접근한다\n",
    "    tokenized = nltk.word_tokenize(line)  # 각 줄을 tokenize한다\n",
    "    for token in tokenized:\n",
    "        if token.lower() not in stop_words:\n",
    "            tokens.append(token)"
   ]
  },
  {
   "cell_type": "code",
   "execution_count": null,
   "metadata": {},
   "outputs": [],
   "source": [
    "corpus = nltk.Text(tokens) \n",
    "print(corpus.tokens)"
   ]
  },
  {
   "cell_type": "code",
   "execution_count": 10,
   "metadata": {},
   "outputs": [
    {
     "name": "stdout",
     "output_type": "stream",
     "text": [
      "18439\n",
      "4648\n"
     ]
    }
   ],
   "source": [
    "print(?(corpus.tokens))  # 전체 token의 개수를 출력한다\n",
    "print(?(?(corpus.tokens)))  # unique한 token의 개수를 출력한다"
   ]
  },
  {
   "cell_type": "markdown",
   "metadata": {},
   "source": [
    "<br>\n",
    "<br>\n",
    "\n",
    "#### 3. 토큰의 등장 횟수 시각화하기\n",
    "\n",
    ">- **정규표현식 개념 소개 & 기본 문법 정리** (Youtube, ellie) @ https://j.mp/3bJQJHg & https://j.mp/3bLXSqB\n",
    "<br> \n",
    "- **보다 상세한 정규표현식 설명 & 예제** : http://j.mp/2PzgFO8 & https://hamait.tistory.com/342"
   ]
  },
  {
   "cell_type": "code",
   "execution_count": 11,
   "metadata": {
    "scrolled": true
   },
   "outputs": [],
   "source": [
    "import matplotlib.pyplot as plt\n",
    "import re # 정규표현식\n",
    "\n",
    "stop_words = stopwords.words(\"english\")\n",
    "stop_words.append('else')\n",
    "\n",
    "file = open('darkknight.txt', 'r', encoding=\"utf-8\")  # 읽기 형식('r')로 지정하고 인코딩은 'utf-8'로 설정한다\n",
    "lines = file.readlines()  # readlines 함수로 텍스트 파일의 내용을 읽어 리스트로 저장한다\n",
    "\n",
    "tokens = []\n",
    "\n",
    "for line in lines:  # for문을 통해 각 줄에 접근한다\n",
    "    tokenized = nltk.word_tokenize(line)  # 각 줄을 tokenize한다\n",
    "    for token in tokenized: # 각 Token이\n",
    "        if token.lower() not in stop_words: # Stopwords 리스트에 포함되어 있지 않으며,\n",
    "            if re.match('^[a-zA-Z]+', token): # 특수 기호에 해당하지 않을 경우,\n",
    "                tokens.append(token) # Token list 에 추가해준다."
   ]
  },
  {
   "cell_type": "code",
   "execution_count": 12,
   "metadata": {},
   "outputs": [],
   "source": [
    "corpus = nltk.Text(tokens) "
   ]
  },
  {
   "cell_type": "code",
   "execution_count": 13,
   "metadata": {},
   "outputs": [
    {
     "data": {
      "image/png": "[encoded data removed]",
      "text/plain": [
       "<Figure size 720x216 with 1 Axes>"
      ]
     },
     "metadata": {
      "needs_background": "light"
     },
     "output_type": "display_data"
    }
   ],
   "source": [
    "plt.figure(figsize=(10, 3)) \n",
    "plt.title('Top 25 Words',fontsize=30)\n",
    "\n",
    "corpus.?(25) # 25개까지만 확인, \"plot\" the data"
   ]
  },
  {
   "cell_type": "markdown",
   "metadata": {},
   "source": [
    "<br>\n",
    "<br>\n",
    "\n",
    "#### 4. 문맥 상 유사한 단어 출력하기"
   ]
  },
  {
   "cell_type": "code",
   "execution_count": 14,
   "metadata": {
    "scrolled": true
   },
   "outputs": [],
   "source": [
    "file = open('darkknight.txt', 'r', encoding=\"utf-8\")  # 읽기 형식('r')로 지정하고 인코딩은 'utf-8'로 설정한다\n",
    "lines = file.readlines()  # readlines 함수로 텍스트 파일의 내용을 읽어 리스트로 저장한다\n",
    "\n",
    "tokens = []\n",
    "for line in lines:  # for문을 통해 각 줄에 접근한다\n",
    "    tokenized = nltk.word_tokenize(line)  # 각 줄을 tokenize한다\n",
    "    for token in tokenized: # 각 Token이\n",
    "        if token.lower() not in stop_words: # Stopwords 리스트에 포함되어 있지 않으며,\n",
    "            if re.match('^[a-zA-Z]+', token): # 특수 기호에 해당하지 않을 경우,\n",
    "                tokens.append(token) # Token list 에 추가해준다.\n",
    "\n",
    "corpus = nltk.Text(tokens)"
   ]
  },
  {
   "cell_type": "code",
   "execution_count": 15,
   "metadata": {},
   "outputs": [
    {
     "name": "stdout",
     "output_type": "stream",
     "text": [
      "Similar words : \n",
      "superhero film action movie character better iconic seen acting actor\n",
      "heath performance modern difficult villain second end good come best\n"
     ]
    }
   ],
   "source": [
    "print('Similar words : ')\n",
    "corpus.?('batman') # 유사한 단어들 (similar words)"
   ]
  },
  {
   "cell_type": "markdown",
   "metadata": {},
   "source": [
    "<br>\n",
    "<br>\n",
    "\n",
    "#### 5. 텍스트의 연어(collocation) 출력하기"
   ]
  },
  {
   "cell_type": "code",
   "execution_count": 16,
   "metadata": {
    "scrolled": true
   },
   "outputs": [],
   "source": [
    "file = open('darkknight.txt', 'r', encoding=\"utf-8\")  # 읽기 형식('r')로 지정하고 인코딩은 'utf-8'로 설정한다\n",
    "lines = file.readlines()  # readlines 함수로 텍스트 파일의 내용을 읽어 리스트로 저장한다\n",
    "\n",
    "tokens = []\n",
    "\n",
    "for line in lines:  # for문을 통해 각 줄에 접근한다\n",
    "    tokenized = nltk.word_tokenize(line)  # 각 줄을 tokenize한다\n",
    "    for token in tokenized: # 각 Token이\n",
    "        if token.lower() not in stop_words: # Stopwords 리스트에 포함되어 있지 않으며,\n",
    "            if re.match('^[a-zA-Z]+', token): # 특수 기호에 해당하지 않을 경우,\n",
    "                tokens.append(token) # Token list 에 추가해준다.\n",
    "        \n",
    "corpus = nltk.Text(tokens) "
   ]
  },
  {
   "cell_type": "code",
   "execution_count": 17,
   "metadata": {},
   "outputs": [
    {
     "name": "stdout",
     "output_type": "stream",
     "text": [
      "Collocation\n",
      "Dark Knight; Heath Ledger; Christian Bale; comic book; Harvey Dent;\n",
      "Christopher Nolan; Bruce Wayne; Aaron Eckhart; Morgan Freeman; Gary\n",
      "Oldman; Batman Begins; Two Face; Gotham City; Maggie Gyllenhaal;\n",
      "Rachel Dawes; Michael Caine; special effect; Tim Burton; Jack\n",
      "Nicholson; dark knight\n"
     ]
    }
   ],
   "source": [
    "print('Collocation')\n",
    "corpus.?() # co-location"
   ]
  }
 ],
 "metadata": {
  "kernelspec": {
   "display_name": "Python 3",
   "language": "python",
   "name": "python3"
  },
  "language_info": {
   "codemirror_mode": {
    "name": "ipython",
    "version": 3
   },
   "file_extension": ".py",
   "mimetype": "text/x-python",
   "name": "python",
   "nbconvert_exporter": "python",
   "pygments_lexer": "ipython3",
   "version": "3.8.8"
  }
 },
 "nbformat": 4,
 "nbformat_minor": 2
}
