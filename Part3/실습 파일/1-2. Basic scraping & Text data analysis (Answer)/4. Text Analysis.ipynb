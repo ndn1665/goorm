{
 "cells": [
  {
   "cell_type": "markdown",
   "metadata": {},
   "source": [
    "#### Text Analysis 실습\n",
    "- **TF-IDF & Cosine similarity**을 이용하여 텍스트 간 유사도 계산하기"
   ]
  },
  {
   "cell_type": "markdown",
   "metadata": {},
   "source": [
    "<br>\n",
    "<br>\n",
    "\n",
    "#### 1. 두 개의 영화 리뷰 텍스트 간 유사도 계산하기"
   ]
  },
  {
   "cell_type": "markdown",
   "metadata": {},
   "source": [
    "#### 1) The Shawshank Redemption (1994) & The Godfather (1972)"
   ]
  },
  {
   "cell_type": "code",
   "execution_count": 1,
   "metadata": {},
   "outputs": [],
   "source": [
    "# 유사도 분석에 필요한 패키지를 불러온다\n",
    "from sklearn.feature_extraction.text import TfidfVectorizer\n",
    "from sklearn.metrics.pairwise import cosine_similarity"
   ]
  },
  {
   "cell_type": "code",
   "execution_count": 2,
   "metadata": {},
   "outputs": [
    {
     "data": {
      "text/plain": [
       "'a green desktop'"
      ]
     },
     "execution_count": 2,
     "metadata": {},
     "output_type": "execute_result"
    }
   ],
   "source": [
    "' '.join(['a', 'green', 'desktop'])"
   ]
  },
  {
   "cell_type": "code",
   "execution_count": 3,
   "metadata": {},
   "outputs": [],
   "source": [
    "file = open('shawshank.txt', 'r', encoding = 'utf-8')\n",
    "lines = file.readlines()  # 영화 리뷰 파일의 모든 라인을 읽어와 리스트로 저장\n",
    "doc1 = ' '.join(lines)\n",
    "# doc1 = ''  # 리뷰 데이터를 담기 위한 String 변수 생성\n",
    "# for line in lines:  # for문을 통해 lines에 있는 모든 텍스트를 doc1에 이어 붙임\n",
    "#     doc1 += line\n",
    "\n",
    "file = open('godfather.txt', 'r', encoding = 'utf-8')\n",
    "lines = file.readlines()  # 영화 리뷰 파일의 모든 라인을 읽어와 리스트로 저장\n",
    "doc2 = ' '.join(lines)"
   ]
  },
  {
   "cell_type": "code",
   "execution_count": 4,
   "metadata": {},
   "outputs": [],
   "source": [
    "corpus = [doc1, doc2]  # doc1, doc2를 합쳐 corpus list를 생성\n",
    "# corpus[0]"
   ]
  },
  {
   "cell_type": "code",
   "execution_count": 5,
   "metadata": {},
   "outputs": [],
   "source": [
    "vectorizer = TfidfVectorizer()  # TfidfVectorizer() 객체 변수 생성"
   ]
  },
  {
   "cell_type": "code",
   "execution_count": 6,
   "metadata": {},
   "outputs": [],
   "source": [
    "# fit_transform()를 통해 corpus의 텍스트 데이터를 벡터화해 X에 저장하고 X를 dense한 matrix로 변환\n",
    "# raw counts have been normalized against document length, terms that are found across many docs are weighted down.\n",
    "\n",
    "X = vectorizer.fit_transform(corpus).todense()\n",
    "# X = vectorizer.fit_transform(corpus) # .todense() 함수를 실행하지 않더라도 코사인 유사도 계산에는 차이가 없음\n",
    "\n",
    "# .todense()의 역할 : 기본적으로 fit_transform의 결과로 만들어지는 행렬은 희소행렬(Sparse matrix), \n",
    "# 희소행렬 내에는 무수히 많은 '0'이 존재하는데 이러한 '0'이라는 값을 저장하는 것 역시도 공간(메모리)을 차지하므로, \n",
    "# '0'인 값들은 아예 제외하고 나머지 숫자들만 실제로 저장하는 방식으로 처리함 (ex. 0이 아닌 값만 [행/열/값] 쌍으로 저장하는 방식 등)\n",
    "# 이렇게 저장된 데이터로부터 현재 우리가 얻어내야하는 것은 값이 모두 채워진 행렬(Dense matrix)이므로,\n",
    "# 마지막에 .todense() 함수를 실행 시 Sparse matrix로부터 2행 3276열 크기의 Dense matrix를 만들어 돌려받을 수 있음 \n",
    "# (추가 참고 : Scipy sparse matrix handling @ https://j.mp/32mhwGq)\n",
    "\n",
    "# X = vectorizer.fit_transform(corpus)\n",
    "# print(X[0]) # .todense() 적용 전의 희소행렬(Sparse matrix)"
   ]
  },
  {
   "cell_type": "code",
   "execution_count": 7,
   "metadata": {},
   "outputs": [
    {
     "name": "stdout",
     "output_type": "stream",
     "text": [
      "[[0.0071001  0.00332632 0.         ... 0.         0.00166316 0.        ]\n",
      " [0.00889703 0.         0.00138938 ... 0.00138938 0.         0.00138938]]\n"
     ]
    }
   ],
   "source": [
    "print(X)"
   ]
  },
  {
   "cell_type": "code",
   "execution_count": 8,
   "metadata": {},
   "outputs": [
    {
     "name": "stdout",
     "output_type": "stream",
     "text": [
      "<class 'numpy.matrix'>\n",
      "(2, 3276)\n"
     ]
    }
   ],
   "source": [
    "print(type(X))\n",
    "print(X.shape) # 2행 3276열의 행렬 (각 행은 각 영화 리뷰 데이터의 word(열) 출현 빈도에 대한 dense matrix)"
   ]
  },
  {
   "cell_type": "code",
   "execution_count": 9,
   "metadata": {},
   "outputs": [
    {
     "data": {
      "text/html": [
       "<div>\n",
       "<style scoped>\n",
       "    .dataframe tbody tr th:only-of-type {\n",
       "        vertical-align: middle;\n",
       "    }\n",
       "\n",
       "    .dataframe tbody tr th {\n",
       "        vertical-align: top;\n",
       "    }\n",
       "\n",
       "    .dataframe thead th {\n",
       "        text-align: right;\n",
       "    }\n",
       "</style>\n",
       "<table border=\"1\" class=\"dataframe\">\n",
       "  <thead>\n",
       "    <tr style=\"text-align: right;\">\n",
       "      <th></th>\n",
       "      <th>0</th>\n",
       "      <th>1</th>\n",
       "      <th>2</th>\n",
       "      <th>3</th>\n",
       "      <th>4</th>\n",
       "      <th>5</th>\n",
       "      <th>6</th>\n",
       "      <th>7</th>\n",
       "      <th>8</th>\n",
       "      <th>9</th>\n",
       "      <th>...</th>\n",
       "      <th>3266</th>\n",
       "      <th>3267</th>\n",
       "      <th>3268</th>\n",
       "      <th>3269</th>\n",
       "      <th>3270</th>\n",
       "      <th>3271</th>\n",
       "      <th>3272</th>\n",
       "      <th>3273</th>\n",
       "      <th>3274</th>\n",
       "      <th>3275</th>\n",
       "    </tr>\n",
       "  </thead>\n",
       "  <tbody>\n",
       "    <tr>\n",
       "      <th>0</th>\n",
       "      <td>0.007100</td>\n",
       "      <td>0.003326</td>\n",
       "      <td>0.000000</td>\n",
       "      <td>0.001663</td>\n",
       "      <td>0.001663</td>\n",
       "      <td>0.000000</td>\n",
       "      <td>0.000000</td>\n",
       "      <td>0.000000</td>\n",
       "      <td>0.000000</td>\n",
       "      <td>0.001663</td>\n",
       "      <td>...</td>\n",
       "      <td>0.000000</td>\n",
       "      <td>0.000000</td>\n",
       "      <td>0.011834</td>\n",
       "      <td>0.001663</td>\n",
       "      <td>0.001183</td>\n",
       "      <td>0.000000</td>\n",
       "      <td>0.001663</td>\n",
       "      <td>0.000000</td>\n",
       "      <td>0.001663</td>\n",
       "      <td>0.000000</td>\n",
       "    </tr>\n",
       "    <tr>\n",
       "      <th>1</th>\n",
       "      <td>0.008897</td>\n",
       "      <td>0.000000</td>\n",
       "      <td>0.001389</td>\n",
       "      <td>0.000000</td>\n",
       "      <td>0.000000</td>\n",
       "      <td>0.001389</td>\n",
       "      <td>0.001389</td>\n",
       "      <td>0.001389</td>\n",
       "      <td>0.001389</td>\n",
       "      <td>0.000000</td>\n",
       "      <td>...</td>\n",
       "      <td>0.005558</td>\n",
       "      <td>0.001389</td>\n",
       "      <td>0.002966</td>\n",
       "      <td>0.000000</td>\n",
       "      <td>0.001977</td>\n",
       "      <td>0.001389</td>\n",
       "      <td>0.000000</td>\n",
       "      <td>0.001389</td>\n",
       "      <td>0.000000</td>\n",
       "      <td>0.001389</td>\n",
       "    </tr>\n",
       "  </tbody>\n",
       "</table>\n",
       "<p>2 rows × 3276 columns</p>\n",
       "</div>"
      ],
      "text/plain": [
       "       0         1         2         3         4         5         6     \\\n",
       "0  0.007100  0.003326  0.000000  0.001663  0.001663  0.000000  0.000000   \n",
       "1  0.008897  0.000000  0.001389  0.000000  0.000000  0.001389  0.001389   \n",
       "\n",
       "       7         8         9     ...      3266      3267      3268      3269  \\\n",
       "0  0.000000  0.000000  0.001663  ...  0.000000  0.000000  0.011834  0.001663   \n",
       "1  0.001389  0.001389  0.000000  ...  0.005558  0.001389  0.002966  0.000000   \n",
       "\n",
       "       3270      3271      3272      3273      3274      3275  \n",
       "0  0.001183  0.000000  0.001663  0.000000  0.001663  0.000000  \n",
       "1  0.001977  0.001389  0.000000  0.001389  0.000000  0.001389  \n",
       "\n",
       "[2 rows x 3276 columns]"
      ]
     },
     "execution_count": 9,
     "metadata": {},
     "output_type": "execute_result"
    }
   ],
   "source": [
    "import pandas as pd\n",
    "\n",
    "pd.DataFrame(X) # np.array or np.matrix => pd.DataFrame"
   ]
  },
  {
   "cell_type": "code",
   "execution_count": 10,
   "metadata": {},
   "outputs": [
    {
     "data": {
      "text/plain": [
       "matrix([[0.0071001 , 0.00332632, 0.        , ..., 0.        , 0.00166316,\n",
       "         0.        ]])"
      ]
     },
     "execution_count": 10,
     "metadata": {},
     "output_type": "execute_result"
    }
   ],
   "source": [
    "X[ 0 ]"
   ]
  },
  {
   "cell_type": "code",
   "execution_count": 11,
   "metadata": {},
   "outputs": [
    {
     "name": "stdout",
     "output_type": "stream",
     "text": [
      "Similarity between 'The Shawshank Redemption' and 'The Godfather':  [[0.9437827]]\n"
     ]
    }
   ],
   "source": [
    "print(\"Similarity between 'The Shawshank Redemption' and 'The Godfather': \", cosine_similarity(X[0], X[1]))"
   ]
  },
  {
   "cell_type": "markdown",
   "metadata": {},
   "source": [
    "<br>\n",
    "\n",
    "#### 2) The Shawshank Redemption (1994) & Inception (2010)"
   ]
  },
  {
   "cell_type": "code",
   "execution_count": 12,
   "metadata": {},
   "outputs": [
    {
     "name": "stdout",
     "output_type": "stream",
     "text": [
      "Similarity between 'The Shawshank Redemption' and 'Inception':  [[0.19704257]]\n"
     ]
    }
   ],
   "source": [
    "file = open('shawshank.txt', 'r', encoding = 'utf-8')\n",
    "lines = file.readlines()  # 영화 리뷰 파일의 모든 라인을 읽어와 리스트로 저장\n",
    "doc1 = ' '.join(lines)\n",
    "\n",
    "file = open('inception.txt', 'r', encoding = 'utf-8')\n",
    "lines = file.readlines()  # 영화 리뷰 파일의 모든 라인을 읽어와 리스트로 저장\n",
    "doc2 = ' '.join(lines)\n",
    "\n",
    "corpus = [doc1, doc2]  # doc1, doc2를 합쳐 corpus list를 생성\n",
    "vectorizer = TfidfVectorizer()  # TfidfVectorizer() 객체 변수 생성\n",
    "X = vectorizer.fit_transform(corpus).todense() # fit_transform()를 통해 corpus의 텍스트 데이터를 벡터화해 X에 저장하고 X를 dense한 matrix로 변환\n",
    "\n",
    "print(\"Similarity between 'The Shawshank Redemption' and 'Inception': \", cosine_similarity(X[0], X[1]))"
   ]
  },
  {
   "cell_type": "markdown",
   "metadata": {},
   "source": [
    "<br>\n",
    "<br>\n",
    "\n",
    "#### 2. 여러 영화 리뷰 텍스트 간 유사도 계산하기"
   ]
  },
  {
   "cell_type": "code",
   "execution_count": 13,
   "metadata": {},
   "outputs": [],
   "source": [
    "file = open('shawshank.txt', 'r', encoding = 'utf-8')\n",
    "lines = file.readlines()  \n",
    "doc1 = ' '.join(lines)\n",
    "\n",
    "file = open('godfather.txt', 'r', encoding = 'utf-8')\n",
    "lines = file.readlines()  \n",
    "doc2 = ' '.join(lines)\n",
    "\n",
    "file = open('inception.txt', 'r', encoding = 'utf-8')\n",
    "lines = file.readlines()\n",
    "doc3 = ' '.join(lines)"
   ]
  },
  {
   "cell_type": "code",
   "execution_count": 14,
   "metadata": {},
   "outputs": [],
   "source": [
    "corpus = [doc1, doc2, doc3]  # doc1, doc2, doc3를 합쳐 corpus list를 생성"
   ]
  },
  {
   "cell_type": "code",
   "execution_count": 15,
   "metadata": {},
   "outputs": [],
   "source": [
    "vectorizer = TfidfVectorizer()  # TfidfVectorizer() 변수 생성"
   ]
  },
  {
   "cell_type": "code",
   "execution_count": 16,
   "metadata": {},
   "outputs": [],
   "source": [
    "# fit_transform()를 통해 corpus의 텍스트 데이터를 벡터화해 X에 저장하고 X를 dense한 matrix로 변환\n",
    "X = vectorizer.fit_transform(corpus).todense()"
   ]
  },
  {
   "cell_type": "code",
   "execution_count": 17,
   "metadata": {},
   "outputs": [
    {
     "name": "stdout",
     "output_type": "stream",
     "text": [
      "Similarity between 'The Shawshank Redemption' and 'The Godfather':  [[0.93484399]]\n",
      "Similarity between 'The Shawshank Redemption' and 'Inception':  [[0.18080469]]\n",
      "Similarity between 'The Godfather' and 'Inception':  [[0.16267018]]\n"
     ]
    }
   ],
   "source": [
    "# 영화 간 cosine similarity 계산\n",
    "print(\"Similarity between 'The Shawshank Redemption' and 'The Godfather': \", cosine_similarity(X[0], X[1]))\n",
    "print(\"Similarity between 'The Shawshank Redemption' and 'Inception': \", cosine_similarity(X[0], X[2]))\n",
    "print(\"Similarity between 'The Godfather' and 'Inception': \", cosine_similarity(X[1], X[2]))"
   ]
  },
  {
   "cell_type": "markdown",
   "metadata": {},
   "source": [
    "<br>\n",
    "\n",
    "#### + [ 하나의 행 vs 전체 행 ] 구도로 Cosine similarity 계산"
   ]
  },
  {
   "cell_type": "code",
   "execution_count": 18,
   "metadata": {},
   "outputs": [
    {
     "data": {
      "text/plain": [
       "array([[1.        , 0.93484399, 0.18080469]])"
      ]
     },
     "execution_count": 18,
     "metadata": {},
     "output_type": "execute_result"
    }
   ],
   "source": [
    "cosine_similarity( X[0] , X ) "
   ]
  },
  {
   "cell_type": "code",
   "execution_count": 19,
   "metadata": {},
   "outputs": [
    {
     "data": {
      "text/html": [
       "<div>\n",
       "<style scoped>\n",
       "    .dataframe tbody tr th:only-of-type {\n",
       "        vertical-align: middle;\n",
       "    }\n",
       "\n",
       "    .dataframe tbody tr th {\n",
       "        vertical-align: top;\n",
       "    }\n",
       "\n",
       "    .dataframe thead th {\n",
       "        text-align: right;\n",
       "    }\n",
       "</style>\n",
       "<table border=\"1\" class=\"dataframe\">\n",
       "  <thead>\n",
       "    <tr style=\"text-align: right;\">\n",
       "      <th></th>\n",
       "      <th>0</th>\n",
       "    </tr>\n",
       "  </thead>\n",
       "  <tbody>\n",
       "    <tr>\n",
       "      <th>0</th>\n",
       "      <td>1.000000</td>\n",
       "    </tr>\n",
       "    <tr>\n",
       "      <th>1</th>\n",
       "      <td>0.934844</td>\n",
       "    </tr>\n",
       "    <tr>\n",
       "      <th>2</th>\n",
       "      <td>0.180805</td>\n",
       "    </tr>\n",
       "  </tbody>\n",
       "</table>\n",
       "</div>"
      ],
      "text/plain": [
       "          0\n",
       "0  1.000000\n",
       "1  0.934844\n",
       "2  0.180805"
      ]
     },
     "execution_count": 19,
     "metadata": {},
     "output_type": "execute_result"
    }
   ],
   "source": [
    "pd.DataFrame( cosine_similarity(X[0], X).T ) # T == Transpose (전치 행렬)"
   ]
  },
  {
   "cell_type": "markdown",
   "metadata": {},
   "source": [
    "<br>\n",
    "\n",
    "#### + [ 각 행 vs 전체 행 ] 구도로 Cosine similarity 계산"
   ]
  },
  {
   "cell_type": "code",
   "execution_count": 20,
   "metadata": {},
   "outputs": [
    {
     "data": {
      "text/plain": [
       "array([[1.        , 0.93484399, 0.18080469],\n",
       "       [0.93484399, 1.        , 0.16267018],\n",
       "       [0.18080469, 0.16267018, 1.        ]])"
      ]
     },
     "execution_count": 20,
     "metadata": {},
     "output_type": "execute_result"
    }
   ],
   "source": [
    "cosine_similarity( X , X ) "
   ]
  },
  {
   "cell_type": "code",
   "execution_count": 21,
   "metadata": {},
   "outputs": [
    {
     "data": {
      "text/html": [
       "<div>\n",
       "<style scoped>\n",
       "    .dataframe tbody tr th:only-of-type {\n",
       "        vertical-align: middle;\n",
       "    }\n",
       "\n",
       "    .dataframe tbody tr th {\n",
       "        vertical-align: top;\n",
       "    }\n",
       "\n",
       "    .dataframe thead th {\n",
       "        text-align: right;\n",
       "    }\n",
       "</style>\n",
       "<table border=\"1\" class=\"dataframe\">\n",
       "  <thead>\n",
       "    <tr style=\"text-align: right;\">\n",
       "      <th></th>\n",
       "      <th>Shawshank</th>\n",
       "      <th>Godfather</th>\n",
       "      <th>Inception</th>\n",
       "    </tr>\n",
       "  </thead>\n",
       "  <tbody>\n",
       "    <tr>\n",
       "      <th>Shawshank</th>\n",
       "      <td>1.000000</td>\n",
       "      <td>0.934844</td>\n",
       "      <td>0.180805</td>\n",
       "    </tr>\n",
       "    <tr>\n",
       "      <th>Godfather</th>\n",
       "      <td>0.934844</td>\n",
       "      <td>1.000000</td>\n",
       "      <td>0.162670</td>\n",
       "    </tr>\n",
       "    <tr>\n",
       "      <th>Inception</th>\n",
       "      <td>0.180805</td>\n",
       "      <td>0.162670</td>\n",
       "      <td>1.000000</td>\n",
       "    </tr>\n",
       "  </tbody>\n",
       "</table>\n",
       "</div>"
      ],
      "text/plain": [
       "           Shawshank  Godfather  Inception\n",
       "Shawshank   1.000000   0.934844   0.180805\n",
       "Godfather   0.934844   1.000000   0.162670\n",
       "Inception   0.180805   0.162670   1.000000"
      ]
     },
     "execution_count": 21,
     "metadata": {},
     "output_type": "execute_result"
    }
   ],
   "source": [
    "result = pd.DataFrame(cosine_similarity( X , X ))\n",
    "\n",
    "result.columns = ['Shawshank', 'Godfather', 'Inception']\n",
    "result.index = ['Shawshank', 'Godfather', 'Inception']\n",
    "\n",
    "result"
   ]
  },
  {
   "cell_type": "code",
   "execution_count": 22,
   "metadata": {},
   "outputs": [
    {
     "data": {
      "image/png": "[encoded data removed]",
      "text/plain": [
       "<Figure size 720x720 with 2 Axes>"
      ]
     },
     "metadata": {
      "needs_background": "light"
     },
     "output_type": "display_data"
    }
   ],
   "source": [
    "import seaborn as sns\n",
    "import matplotlib.pyplot as plt\n",
    "\n",
    "plt.figure(figsize=(10, 10))\n",
    "\n",
    "sns.heatmap(result, annot=True, fmt='f', linewidths=5, cmap='RdYlBu')\n",
    "\n",
    "sns.set(font_scale=1.5)\n",
    "plt.tick_params(top=True, bottom=False, labeltop=True, labelbottom=False) # Let the horizontal axes labeling appear on top.\n",
    "plt.show()"
   ]
  },
  {
   "cell_type": "code",
   "execution_count": null,
   "metadata": {},
   "outputs": [],
   "source": []
  }
 ],
 "metadata": {
  "kernelspec": {
   "display_name": "Python 3",
   "language": "python",
   "name": "python3"
  },
  "language_info": {
   "codemirror_mode": {
    "name": "ipython",
    "version": 3
   },
   "file_extension": ".py",
   "mimetype": "text/x-python",
   "name": "python",
   "nbconvert_exporter": "python",
   "pygments_lexer": "ipython3",
   "version": "3.7.4"
  }
 },
 "nbformat": 4,
 "nbformat_minor": 2
}
